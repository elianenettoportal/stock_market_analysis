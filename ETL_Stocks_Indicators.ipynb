{
 "cells": [
  {
   "cell_type": "markdown",
   "metadata": {},
   "source": [
    "### Description\n",
    "#### This is a ETL code to Extract Transfor and Load data \n",
    "This code will read each of the CSV file and append them all to a single Data Frame\n",
    "This file is a ETL (Extract Transform and Load). It will read from the CSV and to format anything what is necessary to prepare the data to the Machine Learning"
   ]
  },
  {
   "cell_type": "code",
   "execution_count": 3,
   "metadata": {},
   "outputs": [],
   "source": [
    "import pandas as pd\n",
    "import numpy as np\n",
    "from os import listdir\n",
    "from os.path import isfile, join\n",
    "\n",
    "mypath ='data_files'\n",
    "columnsName = ['Name','periodo','lpa','pl','vpa','pVp','pEbit','pEbitda','pAtivos','ebitda','margemEbitda','psr','roe','roa','roic','evEbit','evEbitda','divYield','divPayout','beta','valorizacao','negociosDia','volumeDiario','valorMercado']\n"
   ]
  },
  {
   "cell_type": "code",
   "execution_count": 8,
   "metadata": {},
   "outputs": [
    {
     "name": "stdout",
     "output_type": "stream",
     "text": [
      "missing 10  out of 24\n",
      "Fim ..\n"
     ]
    }
   ],
   "source": [
    "# list all csv(s) from the package\n",
    "files = listdir(mypath)\n",
    "\n",
    "def transformAppendFiles():\n",
    "    # instantiate a new empty dataframe\n",
    "    df_final = pd.DataFrame() \n",
    "    for fileName in files:\n",
    "        current_df = pd.read_csv('data_files/'+fileName)\n",
    "        # if df has less than 24 coluns, add coluns with NAN\n",
    "        if(current_df.shape[1] < 24):\n",
    "            print(\"missing\", 24 - current_df.shape[1], \" out of 24\")\n",
    "            current_column_names = list(current_df.columns)\n",
    "            for idx, col in enumerate(columnsName):\n",
    "                if col not in current_column_names:\n",
    "                    current_df.insert(idx,col,np.nan )\n",
    "        # append all csv(s) in one single data frame\n",
    "        df_final = df_final.append(current_df, ignore_index = True) # append each csv and keep the index\n",
    "   \n",
    "    # final adjusts \n",
    "    # replace today by year of 2022\n",
    "    df_final.loc[df_final['periodo'] == 'Hoje', 'periodo'] = 2022\n",
    "    # put the column divYield in the end to be our dependent variable\n",
    "    column_to_move = df_final.pop(\"divYield\")\n",
    "    df_final.insert(23, \"divYield\", column_to_move)\n",
    "    # replace all NaN by 0\n",
    "    df_final = df_final.fillna(0)\n",
    "    \n",
    "    # save the final dataframe in a new file CSV\n",
    "    df_final.to_csv(\"data_files/indicators_final.csv\", index=False)\n",
    "    print(\"Fim ..\")\n",
    "\n",
    "transformAppendFiles()"
   ]
  },
  {
   "cell_type": "code",
   "execution_count": null,
   "metadata": {},
   "outputs": [],
   "source": []
  }
 ],
 "metadata": {
  "kernelspec": {
   "display_name": "Python 3",
   "language": "python",
   "name": "python3"
  },
  "language_info": {
   "codemirror_mode": {
    "name": "ipython",
    "version": 3
   },
   "file_extension": ".py",
   "mimetype": "text/x-python",
   "name": "python",
   "nbconvert_exporter": "python",
   "pygments_lexer": "ipython3",
   "version": "3.6.10"
  }
 },
 "nbformat": 4,
 "nbformat_minor": 4
}
