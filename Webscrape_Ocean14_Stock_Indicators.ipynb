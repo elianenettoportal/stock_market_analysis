{
 "cells": [
  {
   "cell_type": "markdown",
   "metadata": {},
   "source": [
    "## Description \n",
    "This is the webscrape code to grab the indicators from Ocean14 of any stocks listed in Brazilian´s capital marcket. \\\n",
    "The code will request the Indicators, it is a scoreboard that oceans14 list of all stock indicatores from 2002 to 2022 (current year of this document) \\\n",
    "First you will see a grup of functions to request the stock and after a function to list the stocks we want to see"
   ]
  },
  {
   "cell_type": "markdown",
   "metadata": {},
   "source": [
    "### How did I get the below python code\n",
    "1) login in Ocean14 \\\n",
    "2) go to the page you want to scrape \\\n",
    "4) access DevTools - Network tab \\\n",
    "5) search for the requests of the table \"Quadro de Indicadores\" -> example = ..../quadroIndicadores.aspx?empresa=vale \\\n",
    "6) right button and copy as cUrl bash \\\n",
    "7) past here -> https://curlconverter.com/python/ \\\n",
    "8) copy the generated python code"
   ]
  },
  {
   "cell_type": "code",
   "execution_count": 9,
   "metadata": {},
   "outputs": [],
   "source": [
    "import pandas as pd\n",
    "import requests\n",
    "from bs4 import BeautifulSoup\n",
    "\n",
    "# function to generate the CSV for each stock searched\n",
    "def generateCSV(codigoAccao, dataFrame):\n",
    "    dataFrame.to_csv(\"data_files/indicators_2005_2022_\"+codigoAccao+\".csv\", index=False)\n",
    "\n",
    "# function to prepare the json and generare a dataframe\n",
    "def prepareDataSetinJson(thisJson):\n",
    "    #print(\"quantidade\", len(thisJson))\n",
    "    for indicator in thisJson:\n",
    "        papel= \"Nome\"\n",
    "        if \"empresa\" in indicator:\n",
    "            papel = indicator['empresa']\n",
    "        elif \"papel\" in indicator:\n",
    "            papel = indicator['papel']\n",
    "        df = pd.DataFrame (indicator['saida'])\n",
    "        #df['Name'] = papel\n",
    "        df.insert(0,'Name',papel)\n",
    "        generateCSV(papel, df)\n",
    "\n",
    "# function to execute the request against Ocean14 and grab the indicators´s results for each stock in the list    \n",
    "def getResposeBalancoDividendos(empresa, nome, numero, tipo):\n",
    "    urlIndicadores ='https://www.oceans14.com.br/rendaVariavel/acoes/respostaAjax/quadroIndicadores.aspx'\n",
    "    urlResultados  ='https://www.oceans14.com.br/rendaVariavel/acoes/respostaAjax/quadroResultados.aspx'\n",
    "    urlIndicadBamco='https://www.oceans14.com.br/rendaVariavel/acoes/respostaAjax/quadroIndicadoresBanco.aspx'\n",
    "    cookies = {\n",
    "        '_ga': 'GA1.3.1208949115.1669038973',\n",
    "        'uid': 'A8FC07BCAE48DFBCE3E5A0C83126C586',\n",
    "        'origem': 'direto',\n",
    "        '__gads': 'ID=83f34c6e8f234ad1:T=1669038967:S=ALNI_MaIjVfETrgPeCE-cKtEuSWr4lpojA',\n",
    "        'Sessao': 'E5FEDFB7840E680466911B906336CB8B',\n",
    "        'tipoUsuario': 'Usuario',\n",
    "        'ASP.NET_SessionId': 'nn5zkmg1dockn0wt5qwvulzh',\n",
    "        '_gid': 'GA1.3.978304171.1670090847',\n",
    "        '_clck': '1ys97ww|1|f73|0',\n",
    "        '__gpi': 'UID=000009d9d7318c1b:T=1669038967:RT=1670090846:S=ALNI_MZwYRYjY7kO0WG0uZnW2BHoMq6uoQ',\n",
    "        'contadorViewsAcoes': '9',\n",
    "    }\n",
    "    headers = {\n",
    "        'authority': 'www.oceans14.com.br',\n",
    "        'accept': 'application/json, text/javascript, */*; q=0.01',\n",
    "        'accept-language': 'en-US,en;q=0.9',\n",
    "        'referer': 'https://www.oceans14.com.br/acoes/{nome}/{empresa}{numero}/balanco-dividendos',\n",
    "        'sec-ch-ua': '\"Google Chrome\";v=\"107\", \"Chromium\";v=\"107\", \"Not=A?Brand\";v=\"24\"',\n",
    "        'sec-ch-ua-mobile': '?0',\n",
    "        'sec-ch-ua-platform': '\"Windows\"',\n",
    "        'sec-fetch-dest': 'empty',\n",
    "        'sec-fetch-mode': 'cors',\n",
    "        'sec-fetch-site': 'same-origin',\n",
    "        'user-agent': 'Mozilla/5.0 (Windows NT 10.0; Win64; x64) AppleWebKit/537.36 (KHTML, like Gecko) Chrome/107.0.0.0 Safari/537.36',\n",
    "        'x-requested-with': 'XMLHttpRequest',\n",
    "    }\n",
    "\n",
    "    if tipo == \"indicadores\":\n",
    "        urlResponse = urlIndicadores\n",
    "        params = {'empresa': empresa} \n",
    "    elif tipo == 'quadroIndicadoresBanco':\n",
    "        urlResponse = urlIndicadBamco\n",
    "        params = {'empresa': empresa}\n",
    "    else:\n",
    "        urlResponse = urlResultados\n",
    "        params = {\n",
    "            'empresa': empresa,\n",
    "            'valores': 'Nominais',\n",
    "            'apresentacao': 'Anual',\n",
    "        }\n",
    "    \n",
    "    response = requests.get(\n",
    "        urlResponse,\n",
    "        params=params,\n",
    "        cookies=cookies,\n",
    "        headers=headers,\n",
    "    )\n",
    "\n",
    "    # Verify if request worked. 200 is success\n",
    "    if response.status_code != 200:\n",
    "        print(\"Error fetching page\")\n",
    "        exit()\n",
    "    else:\n",
    "        inJson = response.json()\n",
    "        prepareDataSetinJson(inJson)\n",
    "\n"
   ]
  },
  {
   "cell_type": "code",
   "execution_count": 10,
   "metadata": {},
   "outputs": [
    {
     "name": "stdout",
     "output_type": "stream",
     "text": [
      "INICIA EMPRESA-> vale NOME_PAPEL-> vale NUMERO_PAPEL-> 3 QUADRO-> indicadores\n",
      "quantidade 1\n",
      "INICIA EMPRESA-> petr NOME_PAPEL-> petrobras NUMERO_PAPEL->  QUADRO-> indicadores\n",
      "quantidade 2\n",
      "INICIA EMPRESA-> klbn NOME_PAPEL-> klabin NUMERO_PAPEL->  QUADRO-> indicadores\n",
      "quantidade 2\n",
      "INICIA EMPRESA-> bbas NOME_PAPEL-> banco-do-brasil NUMERO_PAPEL-> 3 QUADRO-> quadroIndicadoresBanco\n",
      "quantidade 1\n",
      "FIM\n"
     ]
    }
   ],
   "source": [
    "# list of stocks to get results\n",
    "stocks = [\n",
    "    [\"vale\",\"vale\", \"3\", \"indicadores\"],\n",
    "    [\"petr\", \"petrobras\", \"\", \"indicadores\"],\n",
    "    [\"klbn\", \"klabin\", \"\", \"indicadores\"],\n",
    "    [\"bbas\",\"banco-do-brasil\", \"3\", \"quadroIndicadoresBanco\"]\n",
    "]\n",
    "for stock in stocks:\n",
    "    empresa = acao[0]\n",
    "    nome    = acao[1]\n",
    "    numero  = acao[2]\n",
    "    tipo    = acao[3]\n",
    "    print(\"START EMPRESA-> % s NOME_PAPEL-> % s NUMERO_PAPEL-> % s QUADRO-> % s\" % (empresa, nome, numero, tipo))\n",
    "    getResposeBalancoDividendos(empresa, nome, numero, tipo)\n",
    "\n",
    "print(\"END\")\n",
    "    "
   ]
  },
  {
   "cell_type": "code",
   "execution_count": null,
   "metadata": {},
   "outputs": [],
   "source": []
  }
 ],
 "metadata": {
  "kernelspec": {
   "display_name": "Python 3",
   "language": "python",
   "name": "python3"
  },
  "language_info": {
   "codemirror_mode": {
    "name": "ipython",
    "version": 3
   },
   "file_extension": ".py",
   "mimetype": "text/x-python",
   "name": "python",
   "nbconvert_exporter": "python",
   "pygments_lexer": "ipython3",
   "version": "3.6.10"
  }
 },
 "nbformat": 4,
 "nbformat_minor": 4
}
