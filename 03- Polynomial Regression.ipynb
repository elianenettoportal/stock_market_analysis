{
 "cells": [
  {
   "cell_type": "code",
   "execution_count": null,
   "metadata": {},
   "outputs": [],
   "source": [
    "# Polynomial Regression"
   ]
  },
  {
   "cell_type": "code",
   "execution_count": null,
   "metadata": {},
   "outputs": [],
   "source": [
    "## What is Dividend Yield\n",
    "Dividend yeld represents the ratio between the dividends paid over the course of 1 year of the stock price.\\\n",
    "It matters to anyone who wants to have a long-term passive income. It is a solid growth analysis.\\\n",
    "Dividend yeld will be the dependent variable, let's see how much it depends on the others for a change"
   ]
  },
  {
   "cell_type": "markdown",
   "metadata": {},
   "source": [
    "## Results of Regression Linear using Polynomial Regression Algorithm \n",
    "A Regression Linear predicts a continuous number, for this analyse we are looking into Dividend Yeld, that will be our target value, a value we want to explain and predict in the future, in another words, it is a dependent variable.\n",
    "\n",
    "The data used to feed the model comes from a webscraping code that reads a scoreboard of dividends with stocks indicators from 1998 to 2022(Today) from a Brazilian website.\n",
    "\n",
    "The model evaluated very badly getting a negative return, it must need a new analysis "
   ]
  },
  {
   "cell_type": "code",
   "execution_count": 1,
   "metadata": {},
   "outputs": [],
   "source": [
    "# Importing the libraries\n",
    "import numpy as np\n",
    "import matplotlib.pyplot as plt\n",
    "import pandas as pd"
   ]
  },
  {
   "cell_type": "code",
   "execution_count": 2,
   "metadata": {},
   "outputs": [
    {
     "data": {
      "text/html": [
       "<div>\n",
       "<style scoped>\n",
       "    .dataframe tbody tr th:only-of-type {\n",
       "        vertical-align: middle;\n",
       "    }\n",
       "\n",
       "    .dataframe tbody tr th {\n",
       "        vertical-align: top;\n",
       "    }\n",
       "\n",
       "    .dataframe thead th {\n",
       "        text-align: right;\n",
       "    }\n",
       "</style>\n",
       "<table border=\"1\" class=\"dataframe\">\n",
       "  <thead>\n",
       "    <tr style=\"text-align: right;\">\n",
       "      <th></th>\n",
       "      <th>Name</th>\n",
       "      <th>periodo</th>\n",
       "      <th>lpa</th>\n",
       "      <th>pl</th>\n",
       "      <th>vpa</th>\n",
       "      <th>pVp</th>\n",
       "      <th>pEbit</th>\n",
       "      <th>pEbitda</th>\n",
       "      <th>pAtivos</th>\n",
       "      <th>ebitda</th>\n",
       "      <th>...</th>\n",
       "      <th>roic</th>\n",
       "      <th>evEbit</th>\n",
       "      <th>evEbitda</th>\n",
       "      <th>divPayout</th>\n",
       "      <th>beta</th>\n",
       "      <th>valorizacao</th>\n",
       "      <th>negociosDia</th>\n",
       "      <th>volumeDiario</th>\n",
       "      <th>valorMercado</th>\n",
       "      <th>divYield</th>\n",
       "    </tr>\n",
       "  </thead>\n",
       "  <tbody>\n",
       "    <tr>\n",
       "      <th>0</th>\n",
       "      <td>BBAS3</td>\n",
       "      <td>1998</td>\n",
       "      <td>1.22</td>\n",
       "      <td>5.74</td>\n",
       "      <td>9.31</td>\n",
       "      <td>0.75</td>\n",
       "      <td>0.0</td>\n",
       "      <td>0.0</td>\n",
       "      <td>0.0</td>\n",
       "      <td>0.0</td>\n",
       "      <td>...</td>\n",
       "      <td>0.0</td>\n",
       "      <td>0.0</td>\n",
       "      <td>0.0</td>\n",
       "      <td>0.0</td>\n",
       "      <td>0.00</td>\n",
       "      <td>-12.50</td>\n",
       "      <td>33.15</td>\n",
       "      <td>1.0</td>\n",
       "      <td>4983804.0</td>\n",
       "      <td>0.00</td>\n",
       "    </tr>\n",
       "    <tr>\n",
       "      <th>1</th>\n",
       "      <td>BBAS3</td>\n",
       "      <td>1999</td>\n",
       "      <td>1.18</td>\n",
       "      <td>7.09</td>\n",
       "      <td>10.21</td>\n",
       "      <td>0.82</td>\n",
       "      <td>0.0</td>\n",
       "      <td>0.0</td>\n",
       "      <td>0.0</td>\n",
       "      <td>0.0</td>\n",
       "      <td>...</td>\n",
       "      <td>0.0</td>\n",
       "      <td>0.0</td>\n",
       "      <td>0.0</td>\n",
       "      <td>0.0</td>\n",
       "      <td>0.00</td>\n",
       "      <td>20.69</td>\n",
       "      <td>37.33</td>\n",
       "      <td>0.0</td>\n",
       "      <td>5980565.0</td>\n",
       "      <td>2.62</td>\n",
       "    </tr>\n",
       "    <tr>\n",
       "      <th>2</th>\n",
       "      <td>BBAS3</td>\n",
       "      <td>2000</td>\n",
       "      <td>1.37</td>\n",
       "      <td>4.36</td>\n",
       "      <td>11.19</td>\n",
       "      <td>0.53</td>\n",
       "      <td>0.0</td>\n",
       "      <td>0.0</td>\n",
       "      <td>0.0</td>\n",
       "      <td>0.0</td>\n",
       "      <td>...</td>\n",
       "      <td>0.0</td>\n",
       "      <td>0.0</td>\n",
       "      <td>0.0</td>\n",
       "      <td>0.0</td>\n",
       "      <td>0.56</td>\n",
       "      <td>-23.53</td>\n",
       "      <td>49.28</td>\n",
       "      <td>0.0</td>\n",
       "      <td>4250473.0</td>\n",
       "      <td>4.19</td>\n",
       "    </tr>\n",
       "    <tr>\n",
       "      <th>3</th>\n",
       "      <td>BBAS3</td>\n",
       "      <td>2001</td>\n",
       "      <td>1.52</td>\n",
       "      <td>6.98</td>\n",
       "      <td>12.29</td>\n",
       "      <td>0.86</td>\n",
       "      <td>0.0</td>\n",
       "      <td>0.0</td>\n",
       "      <td>0.0</td>\n",
       "      <td>0.0</td>\n",
       "      <td>...</td>\n",
       "      <td>0.0</td>\n",
       "      <td>0.0</td>\n",
       "      <td>0.0</td>\n",
       "      <td>0.0</td>\n",
       "      <td>0.94</td>\n",
       "      <td>72.73</td>\n",
       "      <td>80.02</td>\n",
       "      <td>1.0</td>\n",
       "      <td>7540027.0</td>\n",
       "      <td>2.93</td>\n",
       "    </tr>\n",
       "    <tr>\n",
       "      <th>4</th>\n",
       "      <td>BBAS3</td>\n",
       "      <td>2002</td>\n",
       "      <td>2.77</td>\n",
       "      <td>3.54</td>\n",
       "      <td>12.56</td>\n",
       "      <td>0.78</td>\n",
       "      <td>0.0</td>\n",
       "      <td>0.0</td>\n",
       "      <td>0.0</td>\n",
       "      <td>0.0</td>\n",
       "      <td>...</td>\n",
       "      <td>0.0</td>\n",
       "      <td>0.0</td>\n",
       "      <td>0.0</td>\n",
       "      <td>0.0</td>\n",
       "      <td>1.12</td>\n",
       "      <td>-3.09</td>\n",
       "      <td>178.60</td>\n",
       "      <td>2.0</td>\n",
       "      <td>7173767.0</td>\n",
       "      <td>6.94</td>\n",
       "    </tr>\n",
       "  </tbody>\n",
       "</table>\n",
       "<p>5 rows × 24 columns</p>\n",
       "</div>"
      ],
      "text/plain": [
       "    Name  periodo   lpa    pl    vpa   pVp  pEbit  pEbitda  pAtivos  ebitda  \\\n",
       "0  BBAS3     1998  1.22  5.74   9.31  0.75    0.0      0.0      0.0     0.0   \n",
       "1  BBAS3     1999  1.18  7.09  10.21  0.82    0.0      0.0      0.0     0.0   \n",
       "2  BBAS3     2000  1.37  4.36  11.19  0.53    0.0      0.0      0.0     0.0   \n",
       "3  BBAS3     2001  1.52  6.98  12.29  0.86    0.0      0.0      0.0     0.0   \n",
       "4  BBAS3     2002  2.77  3.54  12.56  0.78    0.0      0.0      0.0     0.0   \n",
       "\n",
       "   ...  roic  evEbit  evEbitda  divPayout  beta  valorizacao  negociosDia  \\\n",
       "0  ...   0.0     0.0       0.0        0.0  0.00       -12.50        33.15   \n",
       "1  ...   0.0     0.0       0.0        0.0  0.00        20.69        37.33   \n",
       "2  ...   0.0     0.0       0.0        0.0  0.56       -23.53        49.28   \n",
       "3  ...   0.0     0.0       0.0        0.0  0.94        72.73        80.02   \n",
       "4  ...   0.0     0.0       0.0        0.0  1.12        -3.09       178.60   \n",
       "\n",
       "   volumeDiario  valorMercado  divYield  \n",
       "0           1.0     4983804.0      0.00  \n",
       "1           0.0     5980565.0      2.62  \n",
       "2           0.0     4250473.0      4.19  \n",
       "3           1.0     7540027.0      2.93  \n",
       "4           2.0     7173767.0      6.94  \n",
       "\n",
       "[5 rows x 24 columns]"
      ]
     },
     "execution_count": 2,
     "metadata": {},
     "output_type": "execute_result"
    }
   ],
   "source": [
    "# Importing the dataset\n",
    "dataset = pd.read_csv('data_files/indicators_final.csv')\n",
    "dataset.head()"
   ]
  },
  {
   "cell_type": "code",
   "execution_count": 3,
   "metadata": {},
   "outputs": [],
   "source": [
    "# all rows and columns except for Name, period and the last column divYield that will be the y-dependent variable\n",
    "X = dataset.iloc[:, 2:23].values\n",
    "\n",
    "# all rows but only the last column divYield\n",
    "y = dataset.iloc[:, -1].values"
   ]
  },
  {
   "cell_type": "code",
   "execution_count": 4,
   "metadata": {},
   "outputs": [],
   "source": [
    "# Splitting the dataset into the Training set and Test set\n",
    "from sklearn.model_selection import train_test_split\n",
    "X_train, X_test, y_train, y_test = train_test_split(X, y, test_size = 0.2, random_state = 0)"
   ]
  },
  {
   "cell_type": "code",
   "execution_count": 5,
   "metadata": {},
   "outputs": [
    {
     "data": {
      "text/plain": [
       "LinearRegression(copy_X=True, fit_intercept=True, n_jobs=None, normalize=False)"
      ]
     },
     "execution_count": 5,
     "metadata": {},
     "output_type": "execute_result"
    }
   ],
   "source": [
    "# Training the Polynomial Regression model on the Training set\n",
    "from sklearn.preprocessing import PolynomialFeatures\n",
    "from sklearn.linear_model import LinearRegression\n",
    "poly_reg = PolynomialFeatures(degree = 4)\n",
    "X_poly = poly_reg.fit_transform(X_train)\n",
    "regressor = LinearRegression()\n",
    "regressor.fit(X_poly, y_train)"
   ]
  },
  {
   "cell_type": "code",
   "execution_count": 6,
   "metadata": {},
   "outputs": [
    {
     "name": "stdout",
     "output_type": "stream",
     "text": [
      "[[ 6.45e+00  5.37e+00]\n",
      " [ 3.85e+00  2.33e+00]\n",
      " [ 4.16e+00  5.06e+00]\n",
      " [ 9.38e+02  6.20e-01]\n",
      " [ 6.81e+00  7.30e+00]\n",
      " [ 2.24e-02  0.00e+00]\n",
      " [ 4.15e+00  2.62e+00]\n",
      " [ 6.62e-02  0.00e+00]\n",
      " [ 4.65e+00  1.40e+00]\n",
      " [ 9.38e+02  6.20e-01]\n",
      " [-3.77e+02  1.99e+01]\n",
      " [ 4.08e+00  6.23e+00]\n",
      " [ 4.16e+00  1.86e+00]\n",
      " [ 4.16e+00  2.91e+00]\n",
      " [ 3.32e+00  3.24e+00]\n",
      " [ 7.42e+00  6.37e+00]\n",
      " [ 2.46e+00  2.50e+00]\n",
      " [ 3.25e+00  4.70e+00]\n",
      " [ 5.34e+01  5.34e+01]\n",
      " [ 8.74e+00  7.55e+00]\n",
      " [ 4.16e+00  2.85e+00]\n",
      " [ 1.26e+01  1.06e+01]\n",
      " [ 2.91e+00  3.63e+00]\n",
      " [ 4.16e+00  4.19e+00]\n",
      " [ 3.00e+00  3.46e+00]\n",
      " [ 4.35e+00  3.79e+00]\n",
      " [ 4.70e+01  4.70e+01]\n",
      " [ 2.02e+00  0.00e+00]\n",
      " [ 6.96e+00  5.89e+00]\n",
      " [ 1.44e-01  6.60e-01]\n",
      " [ 4.16e+00  0.00e+00]\n",
      " [ 4.16e+00  2.50e+00]\n",
      " [-3.77e+02  1.99e+01]\n",
      " [ 4.54e+00  6.06e+00]\n",
      " [ 2.74e+00  2.76e+00]\n",
      " [ 1.37e+00  1.30e+00]\n",
      " [ 4.16e+00  8.16e+00]\n",
      " [ 8.65e+00  8.59e+00]\n",
      " [ 4.16e+00  0.00e+00]\n",
      " [ 4.94e+00  8.02e+00]\n",
      " [ 3.95e+00  5.21e+00]\n",
      " [ 4.16e+00  2.85e+00]\n",
      " [ 2.87e+00  3.94e+00]\n",
      " [ 3.31e+00  3.28e+00]\n",
      " [ 1.30e+00  2.04e+00]\n",
      " [ 9.23e+00  9.71e+00]\n",
      " [ 1.00e+00  8.00e-01]\n",
      " [ 4.86e+00  2.58e+00]\n",
      " [ 3.41e+00  4.05e+00]]\n"
     ]
    }
   ],
   "source": [
    "# Predicting the Test set results\n",
    "y_pred = regressor.predict(poly_reg.transform(X_test))\n",
    "np.set_printoptions(precision=2)\n",
    "print(np.concatenate((y_pred.reshape(len(y_pred),1), y_test.reshape(len(y_test),1)),1))"
   ]
  },
  {
   "cell_type": "code",
   "execution_count": 7,
   "metadata": {},
   "outputs": [
    {
     "data": {
      "text/plain": [
       "-423.86278046288254"
      ]
     },
     "execution_count": 7,
     "metadata": {},
     "output_type": "execute_result"
    }
   ],
   "source": [
    "# Evaluating the Model Performance\n",
    "from sklearn.metrics import r2_score\n",
    "r2_score(y_test, y_pred)"
   ]
  }
 ],
 "metadata": {
  "kernelspec": {
   "display_name": "Python 3",
   "language": "python",
   "name": "python3"
  },
  "language_info": {
   "codemirror_mode": {
    "name": "ipython",
    "version": 3
   },
   "file_extension": ".py",
   "mimetype": "text/x-python",
   "name": "python",
   "nbconvert_exporter": "python",
   "pygments_lexer": "ipython3",
   "version": "3.6.10"
  }
 },
 "nbformat": 4,
 "nbformat_minor": 4
}
